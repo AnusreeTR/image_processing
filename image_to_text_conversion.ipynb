{
 "cells": [
  {
   "cell_type": "code",
   "execution_count": 1,
   "metadata": {},
   "outputs": [
    {
     "name": "stdout",
     "output_type": "stream",
     "text": [
      "Sometimes people will talk to\n",
      "you only when they have no\n",
      "one else to talk to.\n",
      "\n",
      "And that's okay.\n",
      "\n",
      "Get off your pedestal and be\n",
      "there.\n",
      "\n",
      "Talk\n",
      "\n",
      "- ayushitrehan\n"
     ]
    }
   ],
   "source": [
    "import cv2\n",
    "from PIL import Image\n",
    "import pytesseract\n",
    "\n",
    "from PIL import Image, ImageEnhance, ImageFilter\n",
    "img1 = cv2.imread(\"C:/Users/Admin/Desktop/3RD SEM PROJECT/image_pro/pict.jpg\")\n",
    "img = Image.open(\"C:/Users/Admin/Desktop/3RD SEM PROJECT/image_pro/pict.jpg\")\n",
    "\n",
    "pix = img.load()\n",
    "for y in range(img.size[1]):\n",
    "    for x in range(img.size[0]):\n",
    "        if pix[x, y][0] < 102 or pix[x, y][1] < 102 or pix[x, y][2] < 102:\n",
    "            pix[x, y] = (0, 0, 0, 255)\n",
    "            \n",
    "        else:\n",
    "            pix[x, y] = (255, 255, 255, 255)\n",
    "img.save('temp.jpg')\n",
    "text = pytesseract.image_to_string(Image.open('temp.jpg'))\n",
    "# os.remove(‘temp.jpg’)\n",
    "print(text)#print image_to_string(Image.open(‘find.jpg’))\n"
   ]
  },
  {
   "cell_type": "code",
   "execution_count": null,
   "metadata": {},
   "outputs": [],
   "source": []
  }
 ],
 "metadata": {
  "kernelspec": {
   "display_name": "Python 3",
   "language": "python",
   "name": "python3"
  },
  "language_info": {
   "codemirror_mode": {
    "name": "ipython",
    "version": 3
   },
   "file_extension": ".py",
   "mimetype": "text/x-python",
   "name": "python",
   "nbconvert_exporter": "python",
   "pygments_lexer": "ipython3",
   "version": "3.7.0"
  }
 },
 "nbformat": 4,
 "nbformat_minor": 2
}
